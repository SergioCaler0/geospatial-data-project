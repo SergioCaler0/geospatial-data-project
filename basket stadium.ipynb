{
 "cells": [
  {
   "cell_type": "code",
   "execution_count": 1,
   "metadata": {},
   "outputs": [],
   "source": [
    "import requests\n",
    "import json\n",
    "from dotenv import load_dotenv\n",
    "import os\n",
    "import pandas as pd"
   ]
  },
  {
   "cell_type": "code",
   "execution_count": 2,
   "metadata": {},
   "outputs": [
    {
     "data": {
      "text/plain": [
       "True"
      ]
     },
     "execution_count": 2,
     "metadata": {},
     "output_type": "execute_result"
    }
   ],
   "source": [
    "load_dotenv()"
   ]
  },
  {
   "cell_type": "code",
   "execution_count": 3,
   "metadata": {},
   "outputs": [],
   "source": [
    "token1 = os.getenv(\"token1\")\n",
    "token2 = os.getenv(\"token2\")"
   ]
  },
  {
   "cell_type": "code",
   "execution_count": 4,
   "metadata": {},
   "outputs": [],
   "source": [
    "url_mother = 'http://api.foursquare.com/v2/venues/explore'"
   ]
  },
  {
   "cell_type": "code",
   "execution_count": 5,
   "metadata": {},
   "outputs": [],
   "source": [
    "ps = {\"client_id\" : token1,\n",
    "     \"client_secret\": token2,\n",
    "     \"v\": \"20180323\",\n",
    "      \"ll\": \"40.726155, -73.995625\",\n",
    "     \"query\" : \"Basketball Stadium\",\n",
    "      \"limit\" : 20,\n",
    "     }"
   ]
  },
  {
   "cell_type": "code",
   "execution_count": 6,
   "metadata": {},
   "outputs": [],
   "source": [
    "response = requests.get(url_mother, ps)"
   ]
  },
  {
   "cell_type": "code",
   "execution_count": 7,
   "metadata": {},
   "outputs": [
    {
     "data": {
      "text/plain": [
       "<Response [200]>"
      ]
     },
     "execution_count": 7,
     "metadata": {},
     "output_type": "execute_result"
    }
   ],
   "source": [
    "response"
   ]
  },
  {
   "cell_type": "code",
   "execution_count": 8,
   "metadata": {},
   "outputs": [],
   "source": [
    "decoding_data = response.json().get(\"response\").get(\"groups\")[0].get(\"items\")"
   ]
  },
  {
   "cell_type": "code",
   "execution_count": 9,
   "metadata": {
    "scrolled": true
   },
   "outputs": [
    {
     "data": {
      "text/plain": [
       "[{'reasons': {'count': 0,\n",
       "   'items': [{'summary': 'This spot is popular',\n",
       "     'type': 'general',\n",
       "     'reasonName': 'globalInteractionReason'}]},\n",
       "  'venue': {'id': '4ae6363ef964a520aba521e3',\n",
       "   'name': 'Madison Square Garden',\n",
       "   'contact': {},\n",
       "   'location': {'address': '4 Penn Plz',\n",
       "    'crossStreet': 'btwn 7th & 8th Ave',\n",
       "    'lat': 40.75075196505169,\n",
       "    'lng': -73.99354219436646,\n",
       "    'labeledLatLngs': [{'label': 'display',\n",
       "      'lat': 40.75075196505169,\n",
       "      'lng': -73.99354219436646}],\n",
       "    'distance': 2743,\n",
       "    'postalCode': '10121',\n",
       "    'cc': 'US',\n",
       "    'city': 'New York',\n",
       "    'state': 'NY',\n",
       "    'country': 'United States',\n",
       "    'formattedAddress': ['4 Penn Plz (btwn 7th & 8th Ave)',\n",
       "     'New York, NY 10121',\n",
       "     'United States']},\n",
       "   'categories': [{'id': '4bf58dd8d48988d18b941735',\n",
       "     'name': 'Basketball Stadium',\n",
       "     'pluralName': 'Basketball Stadiums',\n",
       "     'shortName': 'Basketball',\n",
       "     'icon': {'prefix': 'https://ss3.4sqi.net/img/categories_v2/arts_entertainment/stadium_basketball_',\n",
       "      'suffix': '.png'},\n",
       "     'primary': True}],\n",
       "   'verified': True,\n",
       "   'stats': {'tipCount': 0,\n",
       "    'usersCount': 0,\n",
       "    'checkinsCount': 0,\n",
       "    'visitsCount': 0},\n",
       "   'beenHere': {'count': 0,\n",
       "    'lastCheckinExpiredAt': 0,\n",
       "    'marked': False,\n",
       "    'unconfirmedCount': 0},\n",
       "   'photos': {'count': 0, 'groups': []},\n",
       "   'venuePage': {'id': '34845688'},\n",
       "   'hereNow': {'count': 0, 'summary': 'Nobody here', 'groups': []}},\n",
       "  'flags': {'outsideRadius': True},\n",
       "  'referralId': 'e-0-4ae6363ef964a520aba521e3-0'},\n",
       " {'reasons': {'count': 0,\n",
       "   'items': [{'summary': 'This spot is popular',\n",
       "     'type': 'general',\n",
       "     'reasonName': 'globalInteractionReason'}]},\n",
       "  'venue': {'id': '5f6aa4222b9a142dd8f0197f',\n",
       "   'name': 'Church Square Park Basketball Courts',\n",
       "   'contact': {},\n",
       "   'location': {'address': 'Garden St',\n",
       "    'crossStreet': '4th St',\n",
       "    'lat': 40.742014,\n",
       "    'lng': -74.031549,\n",
       "    'labeledLatLngs': [{'label': 'display',\n",
       "      'lat': 40.742014,\n",
       "      'lng': -74.031549}],\n",
       "    'distance': 3506,\n",
       "    'postalCode': '07030',\n",
       "    'cc': 'US',\n",
       "    'city': 'Hoboken',\n",
       "    'state': 'NJ',\n",
       "    'country': 'United States',\n",
       "    'formattedAddress': ['Garden St (4th St)',\n",
       "     'Hoboken, NJ 07030',\n",
       "     'United States']},\n",
       "   'categories': [{'id': '4bf58dd8d48988d18b941735',\n",
       "     'name': 'Basketball Stadium',\n",
       "     'pluralName': 'Basketball Stadiums',\n",
       "     'shortName': 'Basketball',\n",
       "     'icon': {'prefix': 'https://ss3.4sqi.net/img/categories_v2/arts_entertainment/stadium_basketball_',\n",
       "      'suffix': '.png'},\n",
       "     'primary': True}],\n",
       "   'verified': False,\n",
       "   'stats': {'tipCount': 0,\n",
       "    'usersCount': 0,\n",
       "    'checkinsCount': 0,\n",
       "    'visitsCount': 0},\n",
       "   'beenHere': {'count': 0,\n",
       "    'lastCheckinExpiredAt': 0,\n",
       "    'marked': False,\n",
       "    'unconfirmedCount': 0},\n",
       "   'photos': {'count': 0, 'groups': []},\n",
       "   'hereNow': {'count': 0, 'summary': 'Nobody here', 'groups': []}},\n",
       "  'flags': {'outsideRadius': True},\n",
       "  'referralId': 'e-0-5f6aa4222b9a142dd8f0197f-1'}]"
      ]
     },
     "execution_count": 9,
     "metadata": {},
     "output_type": "execute_result"
    }
   ],
   "source": [
    "decoding_data"
   ]
  },
  {
   "cell_type": "code",
   "execution_count": 10,
   "metadata": {
    "scrolled": true
   },
   "outputs": [
    {
     "data": {
      "text/plain": [
       "[{'reasons': {'count': 0,\n",
       "   'items': [{'summary': 'This spot is popular',\n",
       "     'type': 'general',\n",
       "     'reasonName': 'globalInteractionReason'}]},\n",
       "  'venue': {'id': '4ae6363ef964a520aba521e3',\n",
       "   'name': 'Madison Square Garden',\n",
       "   'contact': {},\n",
       "   'location': {'address': '4 Penn Plz',\n",
       "    'crossStreet': 'btwn 7th & 8th Ave',\n",
       "    'lat': 40.75075196505169,\n",
       "    'lng': -73.99354219436646,\n",
       "    'labeledLatLngs': [{'label': 'display',\n",
       "      'lat': 40.75075196505169,\n",
       "      'lng': -73.99354219436646}],\n",
       "    'distance': 2743,\n",
       "    'postalCode': '10121',\n",
       "    'cc': 'US',\n",
       "    'city': 'New York',\n",
       "    'state': 'NY',\n",
       "    'country': 'United States',\n",
       "    'formattedAddress': ['4 Penn Plz (btwn 7th & 8th Ave)',\n",
       "     'New York, NY 10121',\n",
       "     'United States']},\n",
       "   'categories': [{'id': '4bf58dd8d48988d18b941735',\n",
       "     'name': 'Basketball Stadium',\n",
       "     'pluralName': 'Basketball Stadiums',\n",
       "     'shortName': 'Basketball',\n",
       "     'icon': {'prefix': 'https://ss3.4sqi.net/img/categories_v2/arts_entertainment/stadium_basketball_',\n",
       "      'suffix': '.png'},\n",
       "     'primary': True}],\n",
       "   'verified': True,\n",
       "   'stats': {'tipCount': 0,\n",
       "    'usersCount': 0,\n",
       "    'checkinsCount': 0,\n",
       "    'visitsCount': 0},\n",
       "   'beenHere': {'count': 0,\n",
       "    'lastCheckinExpiredAt': 0,\n",
       "    'marked': False,\n",
       "    'unconfirmedCount': 0},\n",
       "   'photos': {'count': 0, 'groups': []},\n",
       "   'venuePage': {'id': '34845688'},\n",
       "   'hereNow': {'count': 0, 'summary': 'Nobody here', 'groups': []}},\n",
       "  'flags': {'outsideRadius': True},\n",
       "  'referralId': 'e-0-4ae6363ef964a520aba521e3-0'},\n",
       " {'reasons': {'count': 0,\n",
       "   'items': [{'summary': 'This spot is popular',\n",
       "     'type': 'general',\n",
       "     'reasonName': 'globalInteractionReason'}]},\n",
       "  'venue': {'id': '5f6aa4222b9a142dd8f0197f',\n",
       "   'name': 'Church Square Park Basketball Courts',\n",
       "   'contact': {},\n",
       "   'location': {'address': 'Garden St',\n",
       "    'crossStreet': '4th St',\n",
       "    'lat': 40.742014,\n",
       "    'lng': -74.031549,\n",
       "    'labeledLatLngs': [{'label': 'display',\n",
       "      'lat': 40.742014,\n",
       "      'lng': -74.031549}],\n",
       "    'distance': 3506,\n",
       "    'postalCode': '07030',\n",
       "    'cc': 'US',\n",
       "    'city': 'Hoboken',\n",
       "    'state': 'NJ',\n",
       "    'country': 'United States',\n",
       "    'formattedAddress': ['Garden St (4th St)',\n",
       "     'Hoboken, NJ 07030',\n",
       "     'United States']},\n",
       "   'categories': [{'id': '4bf58dd8d48988d18b941735',\n",
       "     'name': 'Basketball Stadium',\n",
       "     'pluralName': 'Basketball Stadiums',\n",
       "     'shortName': 'Basketball',\n",
       "     'icon': {'prefix': 'https://ss3.4sqi.net/img/categories_v2/arts_entertainment/stadium_basketball_',\n",
       "      'suffix': '.png'},\n",
       "     'primary': True}],\n",
       "   'verified': False,\n",
       "   'stats': {'tipCount': 0,\n",
       "    'usersCount': 0,\n",
       "    'checkinsCount': 0,\n",
       "    'visitsCount': 0},\n",
       "   'beenHere': {'count': 0,\n",
       "    'lastCheckinExpiredAt': 0,\n",
       "    'marked': False,\n",
       "    'unconfirmedCount': 0},\n",
       "   'photos': {'count': 0, 'groups': []},\n",
       "   'hereNow': {'count': 0, 'summary': 'Nobody here', 'groups': []}},\n",
       "  'flags': {'outsideRadius': True},\n",
       "  'referralId': 'e-0-5f6aa4222b9a142dd8f0197f-1'}]"
      ]
     },
     "execution_count": 10,
     "metadata": {},
     "output_type": "execute_result"
    }
   ],
   "source": [
    "stadium = decoding_data\n",
    "stadium"
   ]
  },
  {
   "cell_type": "code",
   "execution_count": 11,
   "metadata": {},
   "outputs": [],
   "source": [
    "from functools import reduce\n",
    "import operator"
   ]
  },
  {
   "cell_type": "code",
   "execution_count": 19,
   "metadata": {},
   "outputs": [],
   "source": [
    "mapa_nombre = [\"venue\",\"name\"]\n",
    "ubicacion = [\"venue\", \"location\",\"city\"]\n",
    "latitud = [\"venue\", \"location\",\"lat\"]\n",
    "longitud = [\"venue\",\"location\",\"lng\"]"
   ]
  },
  {
   "cell_type": "code",
   "execution_count": 20,
   "metadata": {},
   "outputs": [],
   "source": [
    "def getFromDict(diccionario,mapa):\n",
    "    return reduce(operator.getitem,mapa,diccionario)"
   ]
  },
  {
   "cell_type": "code",
   "execution_count": 21,
   "metadata": {},
   "outputs": [],
   "source": [
    "lista_stadium = []\n",
    "for diccionario in stadium:\n",
    "    paralista = {}\n",
    "    paralista[\"name\"] = getFromDict(diccionario,mapa_nombre)\n",
    "    paralista[\"city\"] = getFromDict(diccionario, ubicacion)\n",
    "    paralista[\"latitud\"] = getFromDict(diccionario,latitud)\n",
    "    paralista[\"longitud\"] = getFromDict(diccionario,longitud)\n",
    "    lista_stadium.append(paralista)"
   ]
  },
  {
   "cell_type": "code",
   "execution_count": 22,
   "metadata": {},
   "outputs": [
    {
     "data": {
      "text/html": [
       "<div>\n",
       "<style scoped>\n",
       "    .dataframe tbody tr th:only-of-type {\n",
       "        vertical-align: middle;\n",
       "    }\n",
       "\n",
       "    .dataframe tbody tr th {\n",
       "        vertical-align: top;\n",
       "    }\n",
       "\n",
       "    .dataframe thead th {\n",
       "        text-align: right;\n",
       "    }\n",
       "</style>\n",
       "<table border=\"1\" class=\"dataframe\">\n",
       "  <thead>\n",
       "    <tr style=\"text-align: right;\">\n",
       "      <th></th>\n",
       "      <th>name</th>\n",
       "      <th>city</th>\n",
       "      <th>latitud</th>\n",
       "      <th>longitud</th>\n",
       "    </tr>\n",
       "  </thead>\n",
       "  <tbody>\n",
       "    <tr>\n",
       "      <th>0</th>\n",
       "      <td>Madison Square Garden</td>\n",
       "      <td>New York</td>\n",
       "      <td>40.750752</td>\n",
       "      <td>-73.993542</td>\n",
       "    </tr>\n",
       "    <tr>\n",
       "      <th>1</th>\n",
       "      <td>Church Square Park Basketball Courts</td>\n",
       "      <td>Hoboken</td>\n",
       "      <td>40.742014</td>\n",
       "      <td>-74.031549</td>\n",
       "    </tr>\n",
       "  </tbody>\n",
       "</table>\n",
       "</div>"
      ],
      "text/plain": [
       "                                   name      city    latitud   longitud\n",
       "0                 Madison Square Garden  New York  40.750752 -73.993542\n",
       "1  Church Square Park Basketball Courts   Hoboken  40.742014 -74.031549"
      ]
     },
     "execution_count": 22,
     "metadata": {},
     "output_type": "execute_result"
    }
   ],
   "source": [
    "dataframefinalstadium = pd.DataFrame(lista_stadium)\n",
    "dataframefinalstadium"
   ]
  },
  {
   "cell_type": "code",
   "execution_count": 23,
   "metadata": {},
   "outputs": [],
   "source": [
    "data_stadium=dataframefinalstadium.assign(etiqueta= 'stadium')"
   ]
  },
  {
   "cell_type": "code",
   "execution_count": 24,
   "metadata": {},
   "outputs": [
    {
     "data": {
      "text/html": [
       "<div>\n",
       "<style scoped>\n",
       "    .dataframe tbody tr th:only-of-type {\n",
       "        vertical-align: middle;\n",
       "    }\n",
       "\n",
       "    .dataframe tbody tr th {\n",
       "        vertical-align: top;\n",
       "    }\n",
       "\n",
       "    .dataframe thead th {\n",
       "        text-align: right;\n",
       "    }\n",
       "</style>\n",
       "<table border=\"1\" class=\"dataframe\">\n",
       "  <thead>\n",
       "    <tr style=\"text-align: right;\">\n",
       "      <th></th>\n",
       "      <th>name</th>\n",
       "      <th>city</th>\n",
       "      <th>latitud</th>\n",
       "      <th>longitud</th>\n",
       "      <th>etiqueta</th>\n",
       "    </tr>\n",
       "  </thead>\n",
       "  <tbody>\n",
       "    <tr>\n",
       "      <th>0</th>\n",
       "      <td>Madison Square Garden</td>\n",
       "      <td>New York</td>\n",
       "      <td>40.750752</td>\n",
       "      <td>-73.993542</td>\n",
       "      <td>stadium</td>\n",
       "    </tr>\n",
       "    <tr>\n",
       "      <th>1</th>\n",
       "      <td>Church Square Park Basketball Courts</td>\n",
       "      <td>Hoboken</td>\n",
       "      <td>40.742014</td>\n",
       "      <td>-74.031549</td>\n",
       "      <td>stadium</td>\n",
       "    </tr>\n",
       "  </tbody>\n",
       "</table>\n",
       "</div>"
      ],
      "text/plain": [
       "                                   name      city    latitud   longitud  \\\n",
       "0                 Madison Square Garden  New York  40.750752 -73.993542   \n",
       "1  Church Square Park Basketball Courts   Hoboken  40.742014 -74.031549   \n",
       "\n",
       "  etiqueta  \n",
       "0  stadium  \n",
       "1  stadium  "
      ]
     },
     "execution_count": 24,
     "metadata": {},
     "output_type": "execute_result"
    }
   ],
   "source": [
    "data_stadium"
   ]
  },
  {
   "cell_type": "code",
   "execution_count": 25,
   "metadata": {},
   "outputs": [],
   "source": [
    "data_stadium.to_csv('Data_stadium.csv')"
   ]
  },
  {
   "cell_type": "code",
   "execution_count": null,
   "metadata": {},
   "outputs": [],
   "source": []
  }
 ],
 "metadata": {
  "kernelspec": {
   "display_name": "Python 3",
   "language": "python",
   "name": "python3"
  },
  "language_info": {
   "codemirror_mode": {
    "name": "ipython",
    "version": 3
   },
   "file_extension": ".py",
   "mimetype": "text/x-python",
   "name": "python",
   "nbconvert_exporter": "python",
   "pygments_lexer": "ipython3",
   "version": "3.8.5"
  }
 },
 "nbformat": 4,
 "nbformat_minor": 4
}
